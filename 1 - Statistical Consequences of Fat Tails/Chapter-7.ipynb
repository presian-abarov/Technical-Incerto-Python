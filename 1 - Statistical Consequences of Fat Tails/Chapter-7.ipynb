{
 "cells": [
  {
   "cell_type": "code",
   "execution_count": 3,
   "id": "093a1299-cb70-4ba5-8cb8-969f1c74e053",
   "metadata": {},
   "outputs": [],
   "source": [
    "import numpy as np\n",
    "import matplotlib.pyplot as plt\n",
    "from mpl_toolkits.mplot3d import Axes3D\n",
    "import pandas as pd\n",
    "import seaborn as sns\n",
    "import statsmodels.api as sm\n",
    "from scipy.stats import uniform, norm\n",
    "import sys\n",
    "from matplotlib import cm\n",
    "\n",
    "sys.path.append('../')\n",
    "from src.stats import *\n",
    "from src.distributions import hypsecant2, double_pareto\n",
    "from src.multivariate_distributions import simple_multivariate_normal_mixture\n",
    "from src.figures import *\n",
    "\n",
    "colors = plt.rcParams[\"axes.prop_cycle\"].by_key()[\"color\"]\n",
    "sns.set_style('darkgrid')\n",
    "\n",
    "%matplotlib inline"
   ]
  },
  {
   "cell_type": "code",
   "execution_count": null,
   "id": "88e01b59-bf77-432a-a924-cdc64d95e2fe",
   "metadata": {},
   "outputs": [],
   "source": []
  },
  {
   "cell_type": "code",
   "execution_count": 32,
   "id": "7ba43077-e25f-4cf0-b95d-4be7bf1b8563",
   "metadata": {},
   "outputs": [],
   "source": [
    "from scipy.special import comb, factorial\n",
    "\n",
    "def irwin_hall_pdf(x, n):\n",
    "    \"\"\"\n",
    "    Probability density function for the Irwin-Hall distribution.\n",
    "    It is the distribution of the sum of n independent and uniformly distributed random variables,\n",
    "    each of which has a probability density function f(x) = 1 (for 0 <= x <= 1).\n",
    "    \"\"\"\n",
    "    # The Irwin-Hall PDF is a piecewise function, so we'll calculate it in pieces\n",
    "    # Initialize the PDF to zero\n",
    "    pdf = np.zeros_like(x)\n",
    "    for k in range(n + 1):\n",
    "        # Calculate the piecewise function\n",
    "        pdf_piece = ((-1) ** k) * comb(n, k) * (x - k) ** (n - 1)\n",
    "        # Add the piece to the PDF, making sure to handle the domain correctly\n",
    "        pdf_piece[(x < k) | (x > n)] = 0\n",
    "        pdf += pdf_piece\n",
    "    # Normalize the PDF by dividing by the factorial and ensuring non-negative domain\n",
    "    pdf = pdf / factorial(n - 1)\n",
    "    pdf[x < 0] = 0\n",
    "    pdf[x > n] = 0\n",
    "    return pdf\n",
    "\n",
    "def irwin_hall_cdf(x, n):\n",
    "    \"\"\"\n",
    "    Probability density function for the Irwin-Hall distribution.\n",
    "    It is the distribution of the sum of n independent and uniformly distributed random variables,\n",
    "    each of which has a probability density function f(x) = 1 (for 0 <= x <= 1).\n",
    "    \"\"\"\n",
    "    # The Irwin-Hall PDF is a piecewise function, so we'll calculate it in pieces\n",
    "    # Initialize the PDF to zero\n",
    "    cdf = np.zeros_like(x)\n",
    "    for k in range(n + 1):\n",
    "        # Calculate the piecewise function\n",
    "        cdf_piece = ((-1) ** k) * comb(n, k) * (x - k) ** n\n",
    "        # Add the piece to the PDF, making sure to handle the domain correctly\n",
    "        cdf_piece[(x < k) | (x > n)] = 0\n",
    "        cdf += cdf_piece\n",
    "    # Normalize the PDF by dividing by the factorial and ensuring non-negative domain\n",
    "    cdf = cdf / factorial(n)\n",
    "    cdf[x < 0] = 0\n",
    "    cdf[x > n] = 0\n",
    "    return cdf\n",
    "\n",
    "# Define a function to calculate the mean and variance of the Irwin-Hall distribution\n",
    "def irwin_hall_mean_variance(n):\n",
    "    mean = n / 2\n",
    "    variance = n / 12\n",
    "    return mean, variance\n",
    "\n",
    "# # Re-plotting each subplot and adding the Gaussian PDF\n",
    "# fig, axs = plt.subplots(2, 2, figsize=(12, 8))\n",
    "\n",
    "# for i in range(1, 5):\n",
    "#     # Calculate the mean and variance for the Gaussian approximation\n",
    "#     mean, variance = irwin_hall_mean_variance(i)\n",
    "#     # Generate the x values\n",
    "    \n",
    "#     # Generate the Irwin-Hall PDF\n",
    "#     x_ih = np.linspace(0, i, 1000)\n",
    "#     y_ih = irwin_hall_pdf(x_ih, i)\n",
    "#     axs[(i-1)//2, (i-1)%2].plot(x_ih, y_ih, label='Irwin-Hall PDF')\n",
    "    \n",
    "\n",
    "#     x_norm = \n",
    "    \n",
    "    \n",
    "    \n",
    "#     y_gaussian = norm.pdf(x, loc=mean, scale=np.sqrt(variance))\n",
    "    \n",
    "#     # Plot the Irwin-Hall PDF\n",
    "    \n",
    "#     axs[(i-1)//2, (i-1)%2].fill_between(x, y_irwin_hall, alpha=0.3)\n",
    "    \n",
    "#     # Plot the Gaussian PDF with a dashed line\n",
    "#     axs[(i-1)//2, (i-1)%2].plot(x, y_gaussian, 'r--', label='Gaussian PDF')\n",
    "    \n",
    "#     # Set titles and limits\n",
    "#     axs[(i-1)//2, (i-1)%2].set_title(f'$\\\\phi_{i}$')\n",
    "#     # axs[(i-1)//2, (i-1)%2].set_xlim([0, i*1.2])\n",
    "#     # axs[(i-1)//2, (i-1)%2].set_ylim([0, max(y_irwin_hall)*1.2])\n",
    "    \n",
    "#     # Add legend to each subplot\n",
    "#     # axs[(i-1)//2, (i-1)%2].legend()\n",
    "\n",
    "# plt.tight_layout()\n",
    "# plt.show()\n"
   ]
  },
  {
   "cell_type": "code",
   "execution_count": 35,
   "id": "b556ca9e-41d0-45d0-a80d-2d8385fe0f19",
   "metadata": {},
   "outputs": [
    {
     "data": {
      "text/plain": [
       "[<matplotlib.lines.Line2D at 0x159a8b94850>]"
      ]
     },
     "execution_count": 35,
     "metadata": {},
     "output_type": "execute_result"
    },
    {
     "data": {
      "image/png": "[encoded data removed]",
      "text/plain": [
       "<Figure size 640x480 with 1 Axes>"
      ]
     },
     "metadata": {},
     "output_type": "display_data"
    }
   ],
   "source": [
    "plt.plot(x, irwin_hall_cdf(x, 4))"
   ]
  },
  {
   "cell_type": "code",
   "execution_count": 11,
   "id": "736e755a-fe28-4aa6-9348-fb5b661ce85a",
   "metadata": {},
   "outputs": [],
   "source": [
    "i = 2"
   ]
  },
  {
   "cell_type": "code",
   "execution_count": 12,
   "id": "9bb64ae3-3f68-4c59-b91c-9adcb49ecf12",
   "metadata": {},
   "outputs": [],
   "source": [
    "mean, variance = irwin_hall_mean_variance(i)"
   ]
  },
  {
   "cell_type": "code",
   "execution_count": 13,
   "id": "27a67953-7909-4361-9dd3-15ebee779470",
   "metadata": {},
   "outputs": [
    {
     "data": {
      "text/plain": [
       "1.0"
      ]
     },
     "execution_count": 13,
     "metadata": {},
     "output_type": "execute_result"
    }
   ],
   "source": [
    "mean"
   ]
  },
  {
   "cell_type": "code",
   "execution_count": 14,
   "id": "8694100d-4191-438a-9826-949018c1b889",
   "metadata": {},
   "outputs": [
    {
     "data": {
      "text/plain": [
       "0.16666666666666666"
      ]
     },
     "execution_count": 14,
     "metadata": {},
     "output_type": "execute_result"
    }
   ],
   "source": [
    "variance"
   ]
  },
  {
   "cell_type": "code",
   "execution_count": 15,
   "id": "b7f6a7f2-22e8-4de2-8753-ae525296dffa",
   "metadata": {},
   "outputs": [],
   "source": [
    "x = x_ranges[i]"
   ]
  },
  {
   "cell_type": "code",
   "execution_count": 18,
   "id": "7d6bd5f4-fa42-4bbf-8326-79ebef45d3ed",
   "metadata": {},
   "outputs": [],
   "source": [
    "y_gaussian = norm.pdf(x, loc=mean, scale=np.sqrt(variance))"
   ]
  },
  {
   "cell_type": "code",
   "execution_count": 20,
   "id": "c8bed971-b76f-4122-8f9d-619960e33369",
   "metadata": {},
   "outputs": [
    {
     "data": {
      "text/plain": [
       "0.9772020863231469"
      ]
     },
     "execution_count": 20,
     "metadata": {},
     "output_type": "execute_result"
    }
   ],
   "source": [
    "max(y_gaussian)"
   ]
  },
  {
   "cell_type": "code",
   "execution_count": 22,
   "id": "87923953-8aac-47be-8ae2-9c1dd8cb96a3",
   "metadata": {},
   "outputs": [
    {
     "data": {
      "text/plain": [
       "0.002002002002002002"
      ]
     },
     "execution_count": 22,
     "metadata": {},
     "output_type": "execute_result"
    }
   ],
   "source": []
  },
  {
   "cell_type": "code",
   "execution_count": 24,
   "id": "5d1c4414-3ae8-4790-aecf-b2ff86db910b",
   "metadata": {},
   "outputs": [
    {
     "data": {
      "text/plain": [
       "0.9857913283147173"
      ]
     },
     "execution_count": 24,
     "metadata": {},
     "output_type": "execute_result"
    }
   ],
   "source": [
    "np.sum(y_gaussian*np.diff(x)[0])"
   ]
  },
  {
   "cell_type": "code",
   "execution_count": 25,
   "id": "6265839a-c5d1-467f-a31a-c4480feffa29",
   "metadata": {},
   "outputs": [],
   "source": [
    "y_irwin_hall = irwin_hall_pdf(x, i)"
   ]
  },
  {
   "cell_type": "code",
   "execution_count": 26,
   "id": "294b36a0-16f9-41a1-a689-c79d4371fbee",
   "metadata": {},
   "outputs": [
    {
     "data": {
      "text/plain": [
       "0.49999949899849805"
      ]
     },
     "execution_count": 26,
     "metadata": {},
     "output_type": "execute_result"
    }
   ],
   "source": [
    "np.sum(y_irwin_hall*np.diff(x)[0])"
   ]
  },
  {
   "cell_type": "code",
   "execution_count": null,
   "id": "192fbe45-d23a-4cab-b6b2-5f2176063a88",
   "metadata": {},
   "outputs": [],
   "source": []
  }
 ],
 "metadata": {
  "kernelspec": {
   "display_name": "Python 3 (ipykernel)",
   "language": "python",
   "name": "python3"
  },
  "language_info": {
   "codemirror_mode": {
    "name": "ipython",
    "version": 3
   },
   "file_extension": ".py",
   "mimetype": "text/x-python",
   "name": "python",
   "nbconvert_exporter": "python",
   "pygments_lexer": "ipython3",
   "version": "3.8.16"
  }
 },
 "nbformat": 4,
 "nbformat_minor": 5
}
